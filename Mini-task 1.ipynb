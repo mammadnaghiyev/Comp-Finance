{
 "cells": [
  {
   "cell_type": "code",
   "execution_count": 23,
   "metadata": {},
   "outputs": [
    {
     "name": "stdout",
     "output_type": "stream",
     "text": [
      "     S |        d1(S) |        d2(S) |        Pi(S)\n",
      "----------------------------------------------------------------------------------------------------\n",
      "1125.0 |    -2.082825 |    -1.518700 |  -113.294319\n",
      "1200.0 |    -1.774954 |    -1.210828 |  -185.693291\n",
      "1275.0 |    -1.473265 |    -0.909140 |  -275.975899\n",
      "1350.0 |    -1.176106 |    -0.611981 |  -374.211730\n",
      "1425.0 |    -0.881916 |    -0.317790 |  -464.692612\n",
      "1500.0 |    -0.589195 |    -0.025070 |  -529.071124\n",
      "1575.0 |    -0.296475 |     0.267651 |  -551.090664\n",
      "1650.0 |    -0.002284 |     0.561841 |  -521.331076\n",
      "1725.0 |     0.294875 |     0.859000 |  -440.162819\n",
      "1800.0 |     0.596563 |     1.160689 |  -317.658601\n",
      "1875.0 |     0.904435 |     1.468561 |  -170.386863\n"
     ]
    }
   ],
   "source": [
    "import math\n",
    "from scipy.stats import norm\n",
    "\n",
    "# Parameters\n",
    "T = 2.5       \n",
    "t = 0.0       \n",
    "X = 1500      \n",
    "r = 0.0386    \n",
    "q = 0.038     \n",
    "sigma = 0.2227  \n",
    "\n",
    "# Defining s-values from 1125 to 1875 in 11 steps\n",
    "x =  [1125, 1200, 1275, 1350, 1425, 1500, 1575, 1650, 1725, 1800, 1875]\n",
    "\n",
    "#Defining d1&d2 and final price\n",
    "def d1(S):\n",
    "    numerator_d1 = math.tan(S/X - 1) + r * (T - t) * math.log(sigma * math.sqrt(T - t))\n",
    "    denominator = 1 - math.cos(math.sqrt(sigma) * (T-t)**0.25)\n",
    "\n",
    "    d1_value = numerator_d1 / denominator\n",
    "    return d1_value\n",
    "\n",
    "def d2(S):\n",
    "    numerator_d2 = math.tan(S/X - 1) - sigma * math.sqrt(T - t) * (math.exp((r - q)/sigma**2) - 1)\n",
    "    denominator = 1 - math.cos(math.sqrt(sigma) * (T-t)**0.25)\n",
    "    d2_value = numerator_d2 / denominator\n",
    "    return d2_value\n",
    "\n",
    "def Pi(S):\n",
    "    # Compute d1 and d2\n",
    "    d1_val = d1(S)\n",
    "    d2_val = d2(S)\n",
    "    \n",
    "    # term1 = S e^{(r-q)(T-t)} N(d1)\n",
    "    term1 = S * math.exp((q - r) * (T - t)) * norm.cdf(d1_val)\n",
    "    \n",
    "    # term2 = X (1 + X/S)^{3/2} e^{-q(T-t)} N(d2)\n",
    "    term2 = X * (1.0 + X/S)**0.5 * math.exp(-q * (T - t)) * norm.cdf(d2_val)\n",
    "    \n",
    "    return term1 - term2\n",
    "\n",
    "# Print header\n",
    "print(f\"{'S':>6} | {'d1(S)':>12} | {'d2(S)':>12} | {'Pi(S)':>12}\")\n",
    "print(\"-\"*100)\n",
    "\n",
    "# Loop over each S in x and calculate d1(S), d2(S), and Pi(S)\n",
    "for S in x:\n",
    "    d1_val = d1(S)\n",
    "    d2_val = d2(S)\n",
    "    pi_val = Pi(S)\n",
    "    print(f\"{S:>6.1f} | {d1_val:12.6f} | {d2_val:12.6f} | {pi_val:12.6f}\")\n"
   ]
  }
 ],
 "metadata": {
  "kernelspec": {
   "display_name": "Python 3",
   "language": "python",
   "name": "python3"
  },
  "language_info": {
   "codemirror_mode": {
    "name": "ipython",
    "version": 3
   },
   "file_extension": ".py",
   "mimetype": "text/x-python",
   "name": "python",
   "nbconvert_exporter": "python",
   "pygments_lexer": "ipython3",
   "version": "3.13.0"
  }
 },
 "nbformat": 4,
 "nbformat_minor": 2
}
